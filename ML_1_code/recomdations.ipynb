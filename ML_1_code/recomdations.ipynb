{
 "cells": [
  {
   "cell_type": "markdown",
   "metadata": {},
   "source": [
    "# Projets 1 : Building Model That Can Predicting Fuel Emission with Engine Data\n",
    "\n",
    "\n",
    "# About the data\n",
    "Data has been used :  \n",
    "Link data : \n",
    "\n",
    "\n",
    "# Methodolody  \n",
    "We will used simple linear regression or multiple linear regression\n",
    "\n",
    "# Benefit for this model\n",
    "this model can predict how  much th C02 Emissions with \n"
   ]
  },
  {
   "cell_type": "code",
   "execution_count": null,
   "metadata": {},
   "outputs": [],
   "source": [
    "# Import some library that will used\n",
    "import  pandas as pd\n",
    "import  numpy as np\n",
    "import matplotlib as plt\n",
    "\n",
    "# import model for splitting data  into  train and  test\n",
    "from sklearn.model_selection import train_test_split"
   ]
  }
 ],
 "metadata": {
  "language_info": {
   "name": "python"
  },
  "orig_nbformat": 4
 },
 "nbformat": 4,
 "nbformat_minor": 2
}
